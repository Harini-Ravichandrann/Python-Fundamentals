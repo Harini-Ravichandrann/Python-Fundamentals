{
 "cells": [
  {
   "cell_type": "markdown",
   "id": "da089347-c847-45a8-bf58-9be00fc92ff6",
   "metadata": {},
   "source": [
    "| Name           | Type   | Description                                       |\n",
    "|----------------|--------|---------------------------------------------------|\n",
    "| Integers       | int    | Whole number (e.g., 3, 100, 45)                   |\n",
    "| Floating point | float  | Decimal points (e.g., 3.14, 100.0)                |\n",
    "| Strings        | str    | Ordered sequence of characters (e.g., \"Harini\", \"Texas\", \"anystringintamil\") |\n",
    "| Lists          | list   | Ordered sequence of objects (e.g., [\"Harini\", 24, 8.49]) |\n",
    "| Dictionaries   | dict   | Unordered key-value pairs (e.g., {\"Name\": \"Harini\", \"Age\": 23, \"GPA\": 8.49}) |\n",
    "| Tuples         | tup    | Ordered immutable sequence of objects (e.g., (\"Harini\", 24, 8.49)) |\n",
    "| Sets           | set    | Unordered collection of unique objects (e.g., {\"a\", \"b\"}) |\n",
    "| Boolean        | bool   | True/False (e.g., True, False)                    |\n"
   ]
  }
 ],
 "metadata": {
  "kernelspec": {
   "display_name": "Python 3 (ipykernel)",
   "language": "python",
   "name": "python3"
  },
  "language_info": {
   "codemirror_mode": {
    "name": "ipython",
    "version": 3
   },
   "file_extension": ".py",
   "mimetype": "text/x-python",
   "name": "python",
   "nbconvert_exporter": "python",
   "pygments_lexer": "ipython3",
   "version": "3.12.7"
  }
 },
 "nbformat": 4,
 "nbformat_minor": 5
}
