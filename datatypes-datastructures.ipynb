{
 "cells": [
  {
   "cell_type": "markdown",
   "id": "da089347-c847-45a8-bf58-9be00fc92ff6",
   "metadata": {},
   "source": [
    "| Name               | Type   | Description                                   \n",
    "|--------------------|--------|-------------------------------\n",
    "| Integers           | int    | whole number 3,100,45\n",
    "| Floating point     | float  | decimal points 3.14, 100.0\n",
    "| Strings            | str    | ordered sequence of characters \"Harini\", \"Texas\",\"anystringintamil\"\n",
    "| Lists              | list   | ordered sequence of objects [\"Harini\",24,8.49]\n",
    "| Dictionaries       | dict   | Unordered key value pairs [\"Name\":\"Harini\",\"Age\":23,\"GPA\":8.49]\n",
    "| Tuples             | tup    | ordered immutable sequence of objects (\"Harini\",24,8.49)\n",
    "| Sets               | set    | unordered collection of unique objects {\"a\",\"b\"}\n",
    "| Boolean            | bool   | true/false\n"
   ]
  },
  {
   "cell_type": "code",
   "execution_count": 10,
   "id": "48af7a69-2f5e-45ea-bae6-664d05eff5e9",
   "metadata": {},
   "outputs": [
    {
     "name": "stdout",
     "output_type": "stream",
     "text": [
      "Reinitialized existing Git repository in /Users/hariniravichandran/Python-Fundamentals/.git/\n",
      "error: remote origin already exists.\n",
      "fatal: pathspec 'datatypes-datastructures' did not match any files\n",
      "Author identity unknown\n",
      "\n",
      "*** Please tell me who you are.\n",
      "\n",
      "Run\n",
      "\n",
      "  git config --global user.email \"you@example.com\"\n",
      "  git config --global user.name \"Your Name\"\n",
      "\n",
      "to set your account's default identity.\n",
      "Omit --global to set the identity only in this repository.\n",
      "\n",
      "fatal: unable to auto-detect email address (got 'hariniravichandran@Mac.(none)')\n",
      "error: src refspec main does not match any\n",
      "\u001b[31merror: failed to push some refs to 'https://github.com/your-username/your-repo-name.git'\n",
      "\u001b[m"
     ]
    }
   ],
   "source": [
    "!git init\n",
    "!git remote add origin https://github.com/Harini-Ravichandrann/Python-Fundamentals.git\n",
    "!git add datatypes-datastructures data.ipynb\n",
    "!git commit -m \"Add notebook\"\n",
    "!git push -u origin main\n"
   ]
  },
  {
   "cell_type": "code",
   "execution_count": 21,
   "id": "f22e0aef-67ca-42af-9a5c-78fc4c2e7e81",
   "metadata": {},
   "outputs": [],
   "source": [
    "!git config --global user.name \"Harini Ravichandran\"\n",
    "!git config --global user.email \"harini.ravichandrann@gmail.com\"\n"
   ]
  },
  {
   "cell_type": "code",
   "execution_count": 23,
   "id": "6c322408-3ade-453f-a7bf-80f80a3435d5",
   "metadata": {},
   "outputs": [
    {
     "name": "stdout",
     "output_type": "stream",
     "text": [
      "Reinitialized existing Git repository in /Users/hariniravichandran/Python-Fundamentals/.git/\n",
      "error: remote origin already exists.\n",
      "fatal: pathspec 'datatypes-datastructures' did not match any files\n",
      "On branch main\n",
      "\n",
      "Initial commit\n",
      "\n",
      "Untracked files:\n",
      "  (use \"git add <file>...\" to include in what will be committed)\n",
      "\t\u001b[31m.ipynb_checkpoints/\u001b[m\n",
      "\t\u001b[31mdatatypes-datastructures.ipynb\u001b[m\n",
      "\n",
      "nothing added to commit but untracked files present (use \"git add\" to track)\n",
      "error: src refspec main does not match any\n",
      "\u001b[31merror: failed to push some refs to 'https://github.com/your-username/your-repo-name.git'\n",
      "\u001b[m"
     ]
    }
   ],
   "source": [
    "!git init\n",
    "!git remote add origin https://github.com/Harini-Ravichandrann/Python-Fundamentals.git\n",
    "!git add datatypes-datastructures data.ipynb\n",
    "!git commit -m \"Add notebook\"\n",
    "!git push -u origin main\n"
   ]
  },
  {
   "cell_type": "code",
   "execution_count": null,
   "id": "7704371d-a2db-415b-9eb6-70e6955d494b",
   "metadata": {},
   "outputs": [],
   "source": []
  }
 ],
 "metadata": {
  "kernelspec": {
   "display_name": "Python 3 (ipykernel)",
   "language": "python",
   "name": "python3"
  },
  "language_info": {
   "codemirror_mode": {
    "name": "ipython",
    "version": 3
   },
   "file_extension": ".py",
   "mimetype": "text/x-python",
   "name": "python",
   "nbconvert_exporter": "python",
   "pygments_lexer": "ipython3",
   "version": "3.12.7"
  }
 },
 "nbformat": 4,
 "nbformat_minor": 5
}
