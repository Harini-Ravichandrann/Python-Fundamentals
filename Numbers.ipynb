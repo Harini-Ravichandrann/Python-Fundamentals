{
 "cells": [
  {
   "cell_type": "markdown",
   "id": "1fae336a-8ad6-4d88-9e3a-5d5b8493ff4b",
   "metadata": {},
   "source": [
    "## Numbers in Python\n",
    "\n",
    "numbers types -> integer and floating point\n",
    "\n",
    "### Operators \n",
    "(+) -> Addition<br>\n",
    "(-) -> Subtraction<br>\n",
    "(*) -> Multiplication<br>\n",
    "(/) -> Division<br>\n",
    "(%) -> Mod operator (to get reminder) <br>\n",
    "(**) -> Power operator <br>\n",
    "  "
   ]
  }
 ],
 "metadata": {
  "kernelspec": {
   "display_name": "Python 3 (ipykernel)",
   "language": "python",
   "name": "python3"
  },
  "language_info": {
   "codemirror_mode": {
    "name": "ipython",
    "version": 3
   },
   "file_extension": ".py",
   "mimetype": "text/x-python",
   "name": "python",
   "nbconvert_exporter": "python",
   "pygments_lexer": "ipython3",
   "version": "3.12.7"
  }
 },
 "nbformat": 4,
 "nbformat_minor": 5
}
