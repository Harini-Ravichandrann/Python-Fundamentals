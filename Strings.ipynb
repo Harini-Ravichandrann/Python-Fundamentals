{
 "cells": [
  {
   "cell_type": "markdown",
   "id": "77527c70-0294-44a9-9060-87365ae85888",
   "metadata": {},
   "source": [
    "## Strings \n",
    "\n",
    "Strings are ordered sequence of characters (ie) you can perform indexing and slicing\n",
    "\n",
    "| Character | H | a | r | i | n | i |\n",
    "|-----------|---|---|---|---|---|---|\n",
    "| Index     | 0 | 1 | 2 | 3 | 4 | 5 |\n",
    "| Neg Index | -6| -5| -4| -3| -2| -1 |\n",
    "\n",
    "\n",
    "\n",
    "Indexing -> Allows to you pick a single character from the string stringname[index] <br>\n",
    "Slicing  -> Allows to you pick a substring from the string stringname[start:stop:step]"
   ]
  },
  {
   "cell_type": "markdown",
   "id": "8118611c-03bd-4aa9-90b8-65781f6ada4c",
   "metadata": {},
   "source": [
    "## Creating string and printing strings"
   ]
  },
  {
   "cell_type": "code",
   "execution_count": 12,
   "id": "74fb6c80-d191-426b-9c8e-bec951501df5",
   "metadata": {},
   "outputs": [
    {
     "name": "stdout",
     "output_type": "stream",
     "text": [
      "Hello Harini\n",
      "Hello Harini\n",
      "This is markdown code for the string\n"
     ]
    }
   ],
   "source": [
    "print('Hello Harini')\n",
    "print(\"Hello Harini\")\n",
    "print(\"This is markdown code for the string\")"
   ]
  },
  {
   "cell_type": "markdown",
   "id": "fc051f6f-f340-47f8-a927-d8920793c422",
   "metadata": {},
   "source": [
    "## When string has single/double quotes inside them"
   ]
  },
  {
   "cell_type": "code",
   "execution_count": 18,
   "id": "eb225871-16ad-40ae-801b-cd6e5eaba196",
   "metadata": {},
   "outputs": [
    {
     "ename": "SyntaxError",
     "evalue": "invalid syntax. Perhaps you forgot a comma? (3617481323.py, line 1)",
     "output_type": "error",
     "traceback": [
      "\u001b[0;36m  Cell \u001b[0;32mIn[18], line 1\u001b[0;36m\u001b[0m\n\u001b[0;31m    print(\"Hello \"This\" is done\")\u001b[0m\n\u001b[0m          ^\u001b[0m\n\u001b[0;31mSyntaxError\u001b[0m\u001b[0;31m:\u001b[0m invalid syntax. Perhaps you forgot a comma?\n"
     ]
    }
   ],
   "source": [
    "print(\"Hello \"This\" is done\")"
   ]
  },
  {
   "cell_type": "code",
   "execution_count": 14,
   "id": "70522e6f-5298-4188-872c-091cc87383ea",
   "metadata": {},
   "outputs": [
    {
     "name": "stdout",
     "output_type": "stream",
     "text": [
      "Hello I'm Harini Ravichandran\n"
     ]
    }
   ],
   "source": [
    "print(\"Hello I'm Harini Ravichandran\")"
   ]
  },
  {
   "cell_type": "markdown",
   "id": "11619d7b-4db4-450d-aab7-f5a6565363be",
   "metadata": {},
   "source": [
    "## Sequence (\\) and character"
   ]
  },
  {
   "cell_type": "code",
   "execution_count": 24,
   "id": "9ce47a30-58f1-4f3b-b9a6-f69d783d3510",
   "metadata": {},
   "outputs": [
    {
     "name": "stdout",
     "output_type": "stream",
     "text": [
      "Hello \n",
      "Harini\n",
      "Hello \tHarini\n"
     ]
    }
   ],
   "source": [
    "print(\"Hello \\nHarini\")\n",
    "print(\"Hello \\tHarini\")"
   ]
  },
  {
   "cell_type": "markdown",
   "id": "0c48c644-4d3f-4286-827e-39922388f02c",
   "metadata": {},
   "source": [
    "## To print the len of the string"
   ]
  },
  {
   "cell_type": "code",
   "execution_count": 26,
   "id": "8f2a1a6d-5f57-4e75-bb21-c2fac0b951df",
   "metadata": {},
   "outputs": [
    {
     "name": "stdout",
     "output_type": "stream",
     "text": [
      "12\n"
     ]
    }
   ],
   "source": [
    "str = \"Hello Harini\"\n",
    "print(len(str))"
   ]
  },
  {
   "cell_type": "markdown",
   "id": "b3593afd-d7fe-47f1-a7d1-9e04560b6f51",
   "metadata": {},
   "source": [
    "## Indexing"
   ]
  },
  {
   "cell_type": "code",
   "execution_count": 36,
   "id": "16d92dfa-2ed8-4247-942f-135ab9567c90",
   "metadata": {},
   "outputs": [
    {
     "name": "stdout",
     "output_type": "stream",
     "text": [
      "H\n",
      "r\n",
      "H\n",
      "i\n"
     ]
    }
   ],
   "source": [
    "str=\"Harini\"\n",
    "print(str[0])\n",
    "print(str[2])\n",
    "print (str[-6])\n",
    "print(str[len(str)-1])"
   ]
  },
  {
   "cell_type": "markdown",
   "id": "4c65e332-ae84-4600-94fc-513613891ed2",
   "metadata": {},
   "source": [
    "## Slicing Note : stop is upto not till, step 1 is default"
   ]
  },
  {
   "cell_type": "code",
   "execution_count": 38,
   "id": "611da528-6fad-4f31-9f94-6acbc1771b17",
   "metadata": {},
   "outputs": [
    {
     "data": {
      "text/plain": [
       "'rini'"
      ]
     },
     "execution_count": 38,
     "metadata": {},
     "output_type": "execute_result"
    }
   ],
   "source": [
    "str[2:]\n",
    "# prints all the characters from 2 index to the end"
   ]
  },
  {
   "cell_type": "code",
   "execution_count": 40,
   "id": "fc1887ae-feaf-4721-bb1d-f68894702448",
   "metadata": {},
   "outputs": [
    {
     "data": {
      "text/plain": [
       "'Har'"
      ]
     },
     "execution_count": 40,
     "metadata": {},
     "output_type": "execute_result"
    }
   ],
   "source": [
    "str[:3]\n",
    "# prints 0 to 3 index"
   ]
  },
  {
   "cell_type": "code",
   "execution_count": 42,
   "id": "f30b5290-ed52-481a-b1fc-007ae2a485c2",
   "metadata": {},
   "outputs": [
    {
     "data": {
      "text/plain": [
       "'rin'"
      ]
     },
     "execution_count": 42,
     "metadata": {},
     "output_type": "execute_result"
    }
   ],
   "source": [
    "str[2:5]"
   ]
  },
  {
   "cell_type": "code",
   "execution_count": 46,
   "id": "a410828c-c6bc-4290-a4cb-35eb43d720c4",
   "metadata": {},
   "outputs": [
    {
     "data": {
      "text/plain": [
       "'Hrn'"
      ]
     },
     "execution_count": 46,
     "metadata": {},
     "output_type": "execute_result"
    }
   ],
   "source": [
    "str[::2]\n",
    "# :: means every character."
   ]
  },
  {
   "cell_type": "markdown",
   "id": "c8c7d996-a719-4aeb-b6ea-494fe4bf2ecd",
   "metadata": {},
   "source": [
    "## Reversing a string"
   ]
  },
  {
   "cell_type": "code",
   "execution_count": 53,
   "id": "73c87092-19fc-467e-b144-8e27a2742233",
   "metadata": {},
   "outputs": [
    {
     "name": "stdout",
     "output_type": "stream",
     "text": [
      "iniraH\n",
      "iia\n"
     ]
    }
   ],
   "source": [
    "print(str[::-1])\n",
    "print(str[::-2])"
   ]
  },
  {
   "cell_type": "markdown",
   "id": "71d241bc-a56d-47c6-851d-7456faddb55b",
   "metadata": {},
   "source": [
    "### Without assigning for a variable, we can also do this"
   ]
  },
  {
   "cell_type": "code",
   "execution_count": 62,
   "id": "c73f6aae-7929-4d16-9d56-142d8cd6ec0a",
   "metadata": {},
   "outputs": [
    {
     "name": "stdout",
     "output_type": "stream",
     "text": [
      "r\n"
     ]
    }
   ],
   "source": [
    "print(\"Hello World\"[8])"
   ]
  },
  {
   "cell_type": "markdown",
   "id": "5502e739-01d0-463c-9a08-635942a57554",
   "metadata": {},
   "source": [
    "### String properties - Immutability, string properties\n",
    "\n",
    "Strings are immutable (i.e) characters in the string can't be altered. In such cases, we can do string concentation. "
   ]
  },
  {
   "cell_type": "code",
   "execution_count": 78,
   "id": "e9f101db-d0b1-483f-b0f3-ae4fd2bfd31f",
   "metadata": {},
   "outputs": [],
   "source": [
    "str =\"Harini\""
   ]
  },
  {
   "cell_type": "code",
   "execution_count": 80,
   "id": "fd8606a9-3e76-45e3-a784-6776052be4d9",
   "metadata": {},
   "outputs": [
    {
     "name": "stdout",
     "output_type": "stream",
     "text": [
      "Asha\n"
     ]
    }
   ],
   "source": [
    "str= \"Asha\"\n",
    "print(str)"
   ]
  },
  {
   "cell_type": "code",
   "execution_count": 82,
   "id": "07e6b19b-3f8c-4911-a2b9-1573531cbf02",
   "metadata": {},
   "outputs": [
    {
     "ename": "TypeError",
     "evalue": "'str' object does not support item assignment",
     "output_type": "error",
     "traceback": [
      "\u001b[0;31m---------------------------------------------------------------------------\u001b[0m",
      "\u001b[0;31mTypeError\u001b[0m                                 Traceback (most recent call last)",
      "Cell \u001b[0;32mIn[82], line 1\u001b[0m\n\u001b[0;32m----> 1\u001b[0m \u001b[38;5;28mstr\u001b[39m[\u001b[38;5;241m0\u001b[39m]\u001b[38;5;241m=\u001b[39m\u001b[38;5;124m\"\u001b[39m\u001b[38;5;124mA\u001b[39m\u001b[38;5;124m\"\u001b[39m\n",
      "\u001b[0;31mTypeError\u001b[0m: 'str' object does not support item assignment"
     ]
    }
   ],
   "source": [
    "str[0]=\"A\""
   ]
  },
  {
   "cell_type": "code",
   "execution_count": 89,
   "id": "404fee9a-f4db-499a-be97-dbaa6289b08f",
   "metadata": {},
   "outputs": [
    {
     "name": "stdout",
     "output_type": "stream",
     "text": [
      "harini\n"
     ]
    }
   ],
   "source": [
    "newstr=str[2:]+\"rini\"\n",
    "print(newstr)"
   ]
  },
  {
   "cell_type": "code",
   "execution_count": 91,
   "id": "0ae2b33f-864d-42db-aea7-1d8e34f28f0e",
   "metadata": {},
   "outputs": [
    {
     "name": "stdout",
     "output_type": "stream",
     "text": [
      "hariniharinihariniharinihariniharinihariniharinihariniharini\n"
     ]
    }
   ],
   "source": [
    "print(newstr*10)"
   ]
  },
  {
   "cell_type": "code",
   "execution_count": null,
   "id": "2cced86a-bd99-4772-90e9-335fef55269d",
   "metadata": {},
   "outputs": [],
   "source": [
    "# concat doesnt work with number and string\n"
   ]
  }
 ],
 "metadata": {
  "kernelspec": {
   "display_name": "Python 3 (ipykernel)",
   "language": "python",
   "name": "python3"
  },
  "language_info": {
   "codemirror_mode": {
    "name": "ipython",
    "version": 3
   },
   "file_extension": ".py",
   "mimetype": "text/x-python",
   "name": "python",
   "nbconvert_exporter": "python",
   "pygments_lexer": "ipython3",
   "version": "3.12.7"
  }
 },
 "nbformat": 4,
 "nbformat_minor": 5
}
