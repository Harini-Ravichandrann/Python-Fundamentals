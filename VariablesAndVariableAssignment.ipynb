{
 "cells": [
  {
   "cell_type": "markdown",
   "id": "b54d241b-796e-4c45-9461-8d8e59b1d89d",
   "metadata": {},
   "source": [
    "# Variables\n",
    "Rules for variable names :\n",
    "- Should be lowercase\n",
    "- Shouldn't have any special character\n",
    "- Shouldn't use predefined keywords\n",
    "\n",
    "\n",
    "### Dynamic typing language -> Python \n",
    "my_dogs =2 <br>\n",
    "my_dogs =[\"Tinku\",\"Oreo\"]\n",
    "\n",
    "What is dynamic typed language ? The data type of the variable is not defined and the variable can be assigned with any value on the go.\n",
    "\n",
    "**Pros :** <br>\n",
    "Fast development and easy <br>\n",
    "\n",
    "**Cons:** <br>\n",
    "Can create bugs and difficult to debug <br>\n",
    "\n",
    "\n",
    "### Type - type(a)\n",
    "Returns the data type of the variable"
   ]
  },
  {
   "cell_type": "code",
   "execution_count": 37,
   "id": "d2bcf448-c0b4-4fe3-a192-fb747bda47d5",
   "metadata": {},
   "outputs": [
    {
     "name": "stdout",
     "output_type": "stream",
     "text": [
      "5\n"
     ]
    }
   ],
   "source": [
    "a=5\n",
    "print(a)"
   ]
  },
  {
   "cell_type": "code",
   "execution_count": 39,
   "id": "18923551-f0ee-43c1-b78e-64909177becf",
   "metadata": {},
   "outputs": [
    {
     "name": "stdout",
     "output_type": "stream",
     "text": [
      "10\n"
     ]
    }
   ],
   "source": [
    "a=10\n",
    "print(a)"
   ]
  },
  {
   "cell_type": "code",
   "execution_count": 41,
   "id": "194521ed-cfe5-49cc-8d01-df55f6d74467",
   "metadata": {},
   "outputs": [
    {
     "name": "stdout",
     "output_type": "stream",
     "text": [
      "20\n"
     ]
    }
   ],
   "source": [
    "a=a+a\n",
    "print(a)"
   ]
  },
  {
   "cell_type": "code",
   "execution_count": 43,
   "id": "631665f5-db79-4342-b003-03d730fcbceb",
   "metadata": {},
   "outputs": [
    {
     "data": {
      "text/plain": [
       "int"
      ]
     },
     "execution_count": 43,
     "metadata": {},
     "output_type": "execute_result"
    }
   ],
   "source": [
    "type(a)"
   ]
  },
  {
   "cell_type": "code",
   "execution_count": 49,
   "id": "54139466-2471-45e7-8a5d-daa12ccc9bd7",
   "metadata": {},
   "outputs": [
    {
     "name": "stdout",
     "output_type": "stream",
     "text": [
      "2000.0\n"
     ]
    },
    {
     "data": {
      "text/plain": [
       "float"
      ]
     },
     "execution_count": 49,
     "metadata": {},
     "output_type": "execute_result"
    }
   ],
   "source": [
    "my_salary =4000 \n",
    "my_taxes = 0.5\n",
    "my_money= my_salary*my_taxes\n",
    "print(my_money)\n",
    "type(my_money)"
   ]
  }
 ],
 "metadata": {
  "kernelspec": {
   "display_name": "Python 3 (ipykernel)",
   "language": "python",
   "name": "python3"
  },
  "language_info": {
   "codemirror_mode": {
    "name": "ipython",
    "version": 3
   },
   "file_extension": ".py",
   "mimetype": "text/x-python",
   "name": "python",
   "nbconvert_exporter": "python",
   "pygments_lexer": "ipython3",
   "version": "3.12.7"
  }
 },
 "nbformat": 4,
 "nbformat_minor": 5
}
